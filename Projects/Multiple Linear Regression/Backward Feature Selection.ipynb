{
 "cells": [
  {
   "cell_type": "code",
   "execution_count": 1,
   "id": "5fce735a",
   "metadata": {},
   "outputs": [],
   "source": [
    "import numpy as np\n",
    "import pandas as pd\n",
    "import matplotlib.pyplot as plt"
   ]
  },
  {
   "cell_type": "code",
   "execution_count": 11,
   "id": "34144001",
   "metadata": {},
   "outputs": [],
   "source": [
    "from mlxtend.feature_selection import SequentialFeatureSelector"
   ]
  },
  {
   "cell_type": "code",
   "execution_count": 64,
   "id": "c85f52d0",
   "metadata": {},
   "outputs": [],
   "source": [
    "df = pd.read_csv(\"50_Startups.csv\")\n",
    "df.dropna(inplace=True)\n",
    "df=df.drop(df[df['R&D Spend']==0].index)"
   ]
  },
  {
   "cell_type": "code",
   "execution_count": 65,
   "id": "43b7261f",
   "metadata": {},
   "outputs": [],
   "source": [
    "df.drop(inplace=True,columns='State')"
   ]
  },
  {
   "cell_type": "code",
   "execution_count": 66,
   "id": "dd7603fa",
   "metadata": {},
   "outputs": [],
   "source": [
    "x = df.iloc[:,:3]\n",
    "y = df.iloc[:,3]"
   ]
  },
  {
   "cell_type": "code",
   "execution_count": 23,
   "id": "1c23e8c8",
   "metadata": {},
   "outputs": [],
   "source": [
    "from sklearn.model_selection import train_test_split"
   ]
  },
  {
   "cell_type": "code",
   "execution_count": 67,
   "id": "5aaac9f8",
   "metadata": {},
   "outputs": [],
   "source": [
    "x_train,x_test,y_train,y_test = train_test_split(x,y,test_size=0.3,random_state=1)"
   ]
  },
  {
   "cell_type": "code",
   "execution_count": 68,
   "id": "efdee9b4",
   "metadata": {},
   "outputs": [],
   "source": [
    "from sklearn.linear_model import LinearRegression"
   ]
  },
  {
   "cell_type": "code",
   "execution_count": 69,
   "id": "09f56481",
   "metadata": {},
   "outputs": [],
   "source": [
    "lm = LinearRegression()"
   ]
  },
  {
   "cell_type": "code",
   "execution_count": 94,
   "id": "9d722112",
   "metadata": {},
   "outputs": [],
   "source": [
    "backward_feature_selector = SequentialFeatureSelector(LinearRegression(n_jobs=-1),\n",
    "                                                      k_features=1,\n",
    "                                                      forward=False,\n",
    "                                                      floating=False,\n",
    "                                                      verbose=2,\n",
    "                                                      scoring='neg_mean_squared_error',\n",
    "                                                      cv=5)"
   ]
  },
  {
   "cell_type": "code",
   "execution_count": 96,
   "id": "586570db",
   "metadata": {},
   "outputs": [
    {
     "name": "stderr",
     "output_type": "stream",
     "text": [
      "[Parallel(n_jobs=1)]: Using backend SequentialBackend with 1 concurrent workers.\n",
      "[Parallel(n_jobs=1)]: Done   1 out of   1 | elapsed:    0.0s remaining:    0.0s\n",
      "[Parallel(n_jobs=1)]: Done   3 out of   3 | elapsed:    0.0s finished\n",
      "\n",
      "[2023-09-30 14:52:50] Features: 2/1 -- score: -55126962.960262224[Parallel(n_jobs=1)]: Using backend SequentialBackend with 1 concurrent workers.\n",
      "[Parallel(n_jobs=1)]: Done   1 out of   1 | elapsed:    0.0s remaining:    0.0s\n",
      "[Parallel(n_jobs=1)]: Done   2 out of   2 | elapsed:    0.0s finished\n",
      "\n",
      "[2023-09-30 14:52:50] Features: 1/1 -- score: -55390672.05340083"
     ]
    }
   ],
   "source": [
    "bfs = backward_feature_selector.fit(x_train,y_train)"
   ]
  },
  {
   "cell_type": "code",
   "execution_count": 97,
   "id": "f4609201",
   "metadata": {},
   "outputs": [
    {
     "data": {
      "text/plain": [
       "(0,)"
      ]
     },
     "execution_count": 97,
     "metadata": {},
     "output_type": "execute_result"
    }
   ],
   "source": [
    "bfs.k_feature_idx_"
   ]
  },
  {
   "cell_type": "code",
   "execution_count": 99,
   "id": "6ba43071",
   "metadata": {},
   "outputs": [
    {
     "data": {
      "text/plain": [
       "('R&D Spend',)"
      ]
     },
     "execution_count": 99,
     "metadata": {},
     "output_type": "execute_result"
    }
   ],
   "source": [
    "bfs.k_feature_names_"
   ]
  },
  {
   "cell_type": "code",
   "execution_count": 101,
   "id": "e4faf0f2",
   "metadata": {},
   "outputs": [
    {
     "data": {
      "text/plain": [
       "-55390672.05340083"
      ]
     },
     "execution_count": 101,
     "metadata": {},
     "output_type": "execute_result"
    }
   ],
   "source": [
    "bfs.k_score_"
   ]
  },
  {
   "cell_type": "code",
   "execution_count": 102,
   "id": "15b7ffe5",
   "metadata": {},
   "outputs": [],
   "source": [
    "backward_feature_selector = SequentialFeatureSelector(LinearRegression(n_jobs=-1),\n",
    "                                                      k_features=(1,3),\n",
    "                                                      forward=False,\n",
    "                                                      floating=False,\n",
    "                                                      verbose=2,\n",
    "                                                      scoring='neg_mean_squared_error',\n",
    "                                                      cv=5)"
   ]
  },
  {
   "cell_type": "code",
   "execution_count": 104,
   "id": "c371dcc9",
   "metadata": {},
   "outputs": [
    {
     "name": "stderr",
     "output_type": "stream",
     "text": [
      "[Parallel(n_jobs=1)]: Using backend SequentialBackend with 1 concurrent workers.\n",
      "[Parallel(n_jobs=1)]: Done   1 out of   1 | elapsed:    0.0s remaining:    0.0s\n",
      "[Parallel(n_jobs=1)]: Done   3 out of   3 | elapsed:    0.0s finished\n",
      "\n",
      "[2023-09-30 14:56:18] Features: 2/1 -- score: -55126962.960262224[Parallel(n_jobs=1)]: Using backend SequentialBackend with 1 concurrent workers.\n",
      "[Parallel(n_jobs=1)]: Done   1 out of   1 | elapsed:    0.0s remaining:    0.0s\n",
      "[Parallel(n_jobs=1)]: Done   2 out of   2 | elapsed:    0.0s finished\n",
      "\n",
      "[2023-09-30 14:56:18] Features: 1/1 -- score: -55390672.05340083"
     ]
    }
   ],
   "source": [
    "bfs = backward_feature_selector.fit(x_train,y_train)"
   ]
  },
  {
   "cell_type": "code",
   "execution_count": 107,
   "id": "4a1d4c46",
   "metadata": {},
   "outputs": [
    {
     "data": {
      "text/plain": [
       "('R&D Spend', 'Marketing Spend')"
      ]
     },
     "execution_count": 107,
     "metadata": {},
     "output_type": "execute_result"
    }
   ],
   "source": [
    "bfs.k_feature_names_"
   ]
  },
  {
   "cell_type": "code",
   "execution_count": 108,
   "id": "1c5dcbb7",
   "metadata": {},
   "outputs": [
    {
     "data": {
      "text/plain": [
       "-55126962.960262224"
      ]
     },
     "execution_count": 108,
     "metadata": {},
     "output_type": "execute_result"
    }
   ],
   "source": [
    "bfs.k_score_"
   ]
  },
  {
   "cell_type": "code",
   "execution_count": null,
   "id": "1cc2e73d",
   "metadata": {},
   "outputs": [],
   "source": []
  }
 ],
 "metadata": {
  "kernelspec": {
   "display_name": "Python 3 (ipykernel)",
   "language": "python",
   "name": "python3"
  },
  "language_info": {
   "codemirror_mode": {
    "name": "ipython",
    "version": 3
   },
   "file_extension": ".py",
   "mimetype": "text/x-python",
   "name": "python",
   "nbconvert_exporter": "python",
   "pygments_lexer": "ipython3",
   "version": "3.11.1"
  }
 },
 "nbformat": 4,
 "nbformat_minor": 5
}
